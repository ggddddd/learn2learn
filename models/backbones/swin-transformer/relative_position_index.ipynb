{
 "cells": [
  {
   "cell_type": "code",
   "execution_count": 1,
   "metadata": {},
   "outputs": [
    {
     "name": "stderr",
     "output_type": "stream",
     "text": [
      "/home/wintoo/anaconda3/envs/gan/lib/python3.8/site-packages/tqdm/auto.py:22: TqdmWarning: IProgress not found. Please update jupyter and ipywidgets. See https://ipywidgets.readthedocs.io/en/stable/user_install.html\n",
      "  from .autonotebook import tqdm as notebook_tqdm\n"
     ]
    }
   ],
   "source": [
    "import torch"
   ]
  },
  {
   "cell_type": "code",
   "execution_count": 3,
   "metadata": {},
   "outputs": [
    {
     "name": "stdout",
     "output_type": "stream",
     "text": [
      "coords_h:\n",
      " tensor([0, 1, 2, 3, 4, 5, 6])\n",
      "coords_w:\n",
      " tensor([0, 1, 2, 3, 4, 5, 6])\n"
     ]
    }
   ],
   "source": [
    "window_size=[7,7]\n",
    "coords_h = torch.arange(window_size[0])\n",
    "print(\"coords_h:\\n\",coords_h)\n",
    "coords_w = torch.arange(window_size[1])\n",
    "print(\"coords_w:\\n\",coords_w)"
   ]
  },
  {
   "cell_type": "code",
   "execution_count": 4,
   "metadata": {},
   "outputs": [
    {
     "name": "stdout",
     "output_type": "stream",
     "text": [
      "coords:\n",
      " tensor([[[0, 0, 0, 0, 0, 0, 0],\n",
      "         [1, 1, 1, 1, 1, 1, 1],\n",
      "         [2, 2, 2, 2, 2, 2, 2],\n",
      "         [3, 3, 3, 3, 3, 3, 3],\n",
      "         [4, 4, 4, 4, 4, 4, 4],\n",
      "         [5, 5, 5, 5, 5, 5, 5],\n",
      "         [6, 6, 6, 6, 6, 6, 6]],\n",
      "\n",
      "        [[0, 1, 2, 3, 4, 5, 6],\n",
      "         [0, 1, 2, 3, 4, 5, 6],\n",
      "         [0, 1, 2, 3, 4, 5, 6],\n",
      "         [0, 1, 2, 3, 4, 5, 6],\n",
      "         [0, 1, 2, 3, 4, 5, 6],\n",
      "         [0, 1, 2, 3, 4, 5, 6],\n",
      "         [0, 1, 2, 3, 4, 5, 6]]])\n",
      "coords_flatten:\n",
      " tensor([[0, 0, 0, 0, 0, 0, 0, 1, 1, 1, 1, 1, 1, 1, 2, 2, 2, 2, 2, 2, 2, 3, 3, 3,\n",
      "         3, 3, 3, 3, 4, 4, 4, 4, 4, 4, 4, 5, 5, 5, 5, 5, 5, 5, 6, 6, 6, 6, 6, 6,\n",
      "         6],\n",
      "        [0, 1, 2, 3, 4, 5, 6, 0, 1, 2, 3, 4, 5, 6, 0, 1, 2, 3, 4, 5, 6, 0, 1, 2,\n",
      "         3, 4, 5, 6, 0, 1, 2, 3, 4, 5, 6, 0, 1, 2, 3, 4, 5, 6, 0, 1, 2, 3, 4, 5,\n",
      "         6]])\n"
     ]
    },
    {
     "name": "stderr",
     "output_type": "stream",
     "text": [
      "/home/wintoo/anaconda3/envs/gan/lib/python3.8/site-packages/torch/functional.py:568: UserWarning: torch.meshgrid: in an upcoming release, it will be required to pass the indexing argument. (Triggered internally at  /opt/conda/conda-bld/pytorch_1646755903507/work/aten/src/ATen/native/TensorShape.cpp:2228.)\n",
      "  return _VF.meshgrid(tensors, **kwargs)  # type: ignore[attr-defined]\n"
     ]
    }
   ],
   "source": [
    "coords = torch.stack(torch.meshgrid([coords_h, coords_w]))  # 2, Wh, Ww\n",
    "print(\"coords:\\n\",coords)\n",
    "coords_flatten = torch.flatten(coords, 1)  # 2, Wh*Ww\n",
    "print(\"coords_flatten:\\n\",coords_flatten)"
   ]
  },
  {
   "cell_type": "code",
   "execution_count": 5,
   "metadata": {},
   "outputs": [
    {
     "name": "stdout",
     "output_type": "stream",
     "text": [
      "relative_coords_1:\n",
      " tensor([[[ 0,  0,  0,  ..., -6, -6, -6],\n",
      "         [ 0,  0,  0,  ..., -6, -6, -6],\n",
      "         [ 0,  0,  0,  ..., -6, -6, -6],\n",
      "         ...,\n",
      "         [ 6,  6,  6,  ...,  0,  0,  0],\n",
      "         [ 6,  6,  6,  ...,  0,  0,  0],\n",
      "         [ 6,  6,  6,  ...,  0,  0,  0]],\n",
      "\n",
      "        [[ 0, -1, -2,  ..., -4, -5, -6],\n",
      "         [ 1,  0, -1,  ..., -3, -4, -5],\n",
      "         [ 2,  1,  0,  ..., -2, -3, -4],\n",
      "         ...,\n",
      "         [ 4,  3,  2,  ...,  0, -1, -2],\n",
      "         [ 5,  4,  3,  ...,  1,  0, -1],\n",
      "         [ 6,  5,  4,  ...,  2,  1,  0]]])\n",
      "relative_coords_2:\n",
      " tensor([[[ 0,  0],\n",
      "         [ 0, -1],\n",
      "         [ 0, -2],\n",
      "         ...,\n",
      "         [-6, -4],\n",
      "         [-6, -5],\n",
      "         [-6, -6]],\n",
      "\n",
      "        [[ 0,  1],\n",
      "         [ 0,  0],\n",
      "         [ 0, -1],\n",
      "         ...,\n",
      "         [-6, -3],\n",
      "         [-6, -4],\n",
      "         [-6, -5]],\n",
      "\n",
      "        [[ 0,  2],\n",
      "         [ 0,  1],\n",
      "         [ 0,  0],\n",
      "         ...,\n",
      "         [-6, -2],\n",
      "         [-6, -3],\n",
      "         [-6, -4]],\n",
      "\n",
      "        ...,\n",
      "\n",
      "        [[ 6,  4],\n",
      "         [ 6,  3],\n",
      "         [ 6,  2],\n",
      "         ...,\n",
      "         [ 0,  0],\n",
      "         [ 0, -1],\n",
      "         [ 0, -2]],\n",
      "\n",
      "        [[ 6,  5],\n",
      "         [ 6,  4],\n",
      "         [ 6,  3],\n",
      "         ...,\n",
      "         [ 0,  1],\n",
      "         [ 0,  0],\n",
      "         [ 0, -1]],\n",
      "\n",
      "        [[ 6,  6],\n",
      "         [ 6,  5],\n",
      "         [ 6,  4],\n",
      "         ...,\n",
      "         [ 0,  2],\n",
      "         [ 0,  1],\n",
      "         [ 0,  0]]])\n",
      "relative_coords[:, :, 0]:\n",
      " tensor([[ 6,  6,  6,  ...,  0,  0,  0],\n",
      "        [ 6,  6,  6,  ...,  0,  0,  0],\n",
      "        [ 6,  6,  6,  ...,  0,  0,  0],\n",
      "        ...,\n",
      "        [12, 12, 12,  ...,  6,  6,  6],\n",
      "        [12, 12, 12,  ...,  6,  6,  6],\n",
      "        [12, 12, 12,  ...,  6,  6,  6]])\n"
     ]
    }
   ],
   "source": [
    "relative_coords = coords_flatten[:, :, None] - coords_flatten[:, None, :]  # 2, Wh*Ww, Wh*Ww\n",
    "print(\"relative_coords_1:\\n\",relative_coords)\n",
    "relative_coords = relative_coords.permute(1, 2, 0).contiguous()  # Wh*Ww, Wh*Ww, 2\n",
    "print(\"relative_coords_2:\\n\",relative_coords)\n",
    "relative_coords[:, :, 0] += window_size[0] - 1  # shift to start from 0\n",
    "print(\"relative_coords[:, :, 0]:\\n\",relative_coords[:, :, 0])"
   ]
  },
  {
   "cell_type": "code",
   "execution_count": 6,
   "metadata": {},
   "outputs": [
    {
     "name": "stdout",
     "output_type": "stream",
     "text": [
      "relative_coords[:, :, 1]:\n",
      " tensor([[ 6,  5,  4,  ...,  2,  1,  0],\n",
      "        [ 7,  6,  5,  ...,  3,  2,  1],\n",
      "        [ 8,  7,  6,  ...,  4,  3,  2],\n",
      "        ...,\n",
      "        [10,  9,  8,  ...,  6,  5,  4],\n",
      "        [11, 10,  9,  ...,  7,  6,  5],\n",
      "        [12, 11, 10,  ...,  8,  7,  6]])\n"
     ]
    }
   ],
   "source": [
    "\n",
    "relative_coords[:, :, 1] += window_size[1] - 1\n",
    "print(\"relative_coords[:, :, 1]:\\n\",relative_coords[:, :, 1])"
   ]
  },
  {
   "cell_type": "code",
   "execution_count": 7,
   "metadata": {},
   "outputs": [
    {
     "name": "stdout",
     "output_type": "stream",
     "text": [
      "relative_coords[:, :, 0]:\n",
      " tensor([[ 78,  78,  78,  ...,   0,   0,   0],\n",
      "        [ 78,  78,  78,  ...,   0,   0,   0],\n",
      "        [ 78,  78,  78,  ...,   0,   0,   0],\n",
      "        ...,\n",
      "        [156, 156, 156,  ...,  78,  78,  78],\n",
      "        [156, 156, 156,  ...,  78,  78,  78],\n",
      "        [156, 156, 156,  ...,  78,  78,  78]])\n"
     ]
    }
   ],
   "source": [
    "relative_coords[:, :, 0] *= 2 * window_size[1] - 1\n",
    "print(\"relative_coords[:, :, 0]:\\n\",relative_coords[:, :, 0])"
   ]
  },
  {
   "cell_type": "code",
   "execution_count": 11,
   "metadata": {},
   "outputs": [
    {
     "name": "stdout",
     "output_type": "stream",
     "text": [
      "relative_pos_index:\n",
      " tensor([84, 83, 82, 81, 80, 79, 78, 71, 70, 69, 68, 67, 66, 65, 58, 57, 56, 55,\n",
      "        54, 53, 52, 45, 44, 43, 42, 41, 40, 39, 32, 31, 30, 29, 28, 27, 26, 19,\n",
      "        18, 17, 16, 15, 14, 13,  6,  5,  4,  3,  2,  1,  0])\n",
      "relative_pos_index:\n",
      " tensor([85, 84, 83, 82, 81, 80, 79, 72, 71, 70, 69, 68, 67, 66, 59, 58, 57, 56,\n",
      "        55, 54, 53, 46, 45, 44, 43, 42, 41, 40, 33, 32, 31, 30, 29, 28, 27, 20,\n",
      "        19, 18, 17, 16, 15, 14,  7,  6,  5,  4,  3,  2,  1])\n",
      "relative_pos_index:\n",
      " tensor([86, 85, 84, 83, 82, 81, 80, 73, 72, 71, 70, 69, 68, 67, 60, 59, 58, 57,\n",
      "        56, 55, 54, 47, 46, 45, 44, 43, 42, 41, 34, 33, 32, 31, 30, 29, 28, 21,\n",
      "        20, 19, 18, 17, 16, 15,  8,  7,  6,  5,  4,  3,  2])\n",
      "relative_pos_index:\n",
      " tensor([ 84,  85,  86,  87,  88,  89,  90,  97,  98,  99, 100, 101, 102, 103,\n",
      "        110, 111, 112, 113, 114, 115, 116, 123, 124, 125, 126, 127, 128, 129,\n",
      "        136, 137, 138, 139, 140, 141, 142, 149, 150, 151, 152, 153, 154, 155,\n",
      "        162, 163, 164, 165, 166, 167, 168])\n"
     ]
    },
    {
     "name": "stderr",
     "output_type": "stream",
     "text": [
      "/tmp/ipykernel_81701/3618870177.py:5: UserWarning: The use of `x.T` on tensors of dimension other than 2 to reverse their shape is deprecated and it will throw an error in a future release. Consider `x.mT` to transpose batches of matricesor `x.permute(*torch.arange(x.ndim - 1, -1, -1))` to reverse the dimensions of a tensor. (Triggered internally at  /opt/conda/conda-bld/pytorch_1646755903507/work/aten/src/ATen/native/TensorShape.cpp:2318.)\n",
      "  print(\"relative_pos_index:\\n\",relative_position_index[:, 0].T)\n"
     ]
    }
   ],
   "source": [
    "relative_position_index = relative_coords.sum(-1)  # Wh*Ww, Wh*Ww\n",
    "print(\"relative_pos_index:\\n\",relative_position_index[0])\n",
    "print(\"relative_pos_index:\\n\",relative_position_index[1])\n",
    "print(\"relative_pos_index:\\n\",relative_position_index[2])\n",
    "print(\"relative_pos_index:\\n\",relative_position_index[:, 0].T)"
   ]
  }
 ],
 "metadata": {
  "interpreter": {
   "hash": "ce5107068468f6cf23f0a7942072e4e5251f6d7b0f4e037c0978f110ec394f78"
  },
  "kernelspec": {
   "display_name": "Python 3.8.13 ('gan')",
   "language": "python",
   "name": "python3"
  },
  "language_info": {
   "codemirror_mode": {
    "name": "ipython",
    "version": 3
   },
   "file_extension": ".py",
   "mimetype": "text/x-python",
   "name": "python",
   "nbconvert_exporter": "python",
   "pygments_lexer": "ipython3",
   "version": "3.8.13"
  },
  "orig_nbformat": 4
 },
 "nbformat": 4,
 "nbformat_minor": 2
}
